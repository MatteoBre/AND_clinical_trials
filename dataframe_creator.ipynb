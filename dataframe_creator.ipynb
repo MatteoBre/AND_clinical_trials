{
 "cells": [
  {
   "cell_type": "code",
   "execution_count": 1,
   "metadata": {
    "scrolled": false
   },
   "outputs": [
    {
     "name": "stdout",
     "output_type": "stream",
     "text": [
      "article 27953647  not found.\n",
      "article 27948541  not found.\n",
      "article 27943881  not found.\n",
      "article 27949797  not found.\n",
      "article 27955116  not found.\n",
      "article 27950623  not found.\n",
      "article 27945102  not found.\n",
      "clinical trial NCT02659670  not found.\n",
      "article 27198327  not found.\n"
     ]
    }
   ],
   "source": [
    "import articles.article_fetch as article_fetch\n",
    "import articles.articles_info as article_info\n",
    "from articles import article\n",
    "\n",
    "import clinical_trials.clinical_trial_fetch as ct_fetch\n",
    "import clinical_trials.clinical_trials_info as ct_info\n",
    "from clinical_trials import clinical_trial\n",
    "\n",
    "import csv\n",
    "import csv_data.csv as csv_data\n",
    "\n",
    "from dataframe import create_dataframe\n",
    "from dataframe import calculate_attributes\n",
    "\n",
    "import pandas as pd\n",
    "\n",
    "import importlib\n",
    "\n",
    "# I get the gold standard\n",
    "gold_standard = pd.read_csv('ClinicalPmidsALL.csv', encoding = 'ISO-8859-1', sep = ';')\n",
    "\n",
    "# Now I change the common answer from string to numerical\n",
    "csv_data.numerical_answers(gold_standard)\n",
    "\n",
    "# Let's correct data on csv (common answer sometimes is not correct)\n",
    "csv_data.correctData(gold_standard)\n",
    "\n",
    "# I get all the clinical trials ID and I get the articles in xml\n",
    "Clinical_trials = ct_fetch.get_xml_doms(gold_standard['CT'].tolist())\n",
    "\n",
    "# I get all the PMID and I get the articles in xml\n",
    "PubMed_id_string = list(map(str, gold_standard['PMID'].tolist())) # I get the PMID as list of strings\n",
    "PubMed_articles = article_fetch.fetch_many_articles(PubMed_id_string, local=True) # It takes time to fetch the articles\n",
    "\n",
    "# Let's map every clinical trial to every article (and remove the one that are not present) and common answer\n",
    "df = create_dataframe.get_base_dataframe(gold_standard, Clinical_trials, PubMed_articles)\n",
    "\n",
    "# standard, spacy or stanford\n",
    "ct_org_sample = 'spacy'\n",
    "ar_org_sample = 'spacy'"
   ]
  },
  {
   "cell_type": "code",
   "execution_count": 2,
   "metadata": {},
   "outputs": [],
   "source": [
    "#lam = gold_standard['CT']\n",
    "#lam.index[lam == 'NCT00003204'].tolist()[0]\n",
    "\n",
    "ct_last_names, ct_first_name_initials, ct_first_names = ct_info.get_all_name_parts(df['CT'].tolist(), gold_standard)\n",
    "\n",
    "df['ct_last_name'], df['ct_first_name_initial'], df['ct_first_name'] = [ct_last_names, ct_first_name_initials, ct_first_names]"
   ]
  },
  {
   "cell_type": "code",
   "execution_count": 3,
   "metadata": {},
   "outputs": [],
   "source": [
    "# print(sum(x is not None for x in ct_last_names))\n",
    "df = df.dropna().reset_index(drop = True)"
   ]
  },
  {
   "cell_type": "code",
   "execution_count": 4,
   "metadata": {},
   "outputs": [
    {
     "name": "stdout",
     "output_type": "stream",
     "text": [
      "\n"
     ]
    }
   ],
   "source": [
    "ar_last_names, ar_first_name_initials, ar_first_names = article_info.get_all_name_parts(df['PubMed'].tolist(), gold_standard)\n",
    "\n",
    "df['ar_last_name'], df['ar_first_name_initial'], df['ar_first_name'] = [ar_last_names, ar_first_name_initials, ar_first_names]\n",
    "df.dropna().reset_index(drop = True)\n",
    "print()"
   ]
  },
  {
   "cell_type": "code",
   "execution_count": null,
   "metadata": {
    "scrolled": true
   },
   "outputs": [
    {
     "name": "stdout",
     "output_type": "stream",
     "text": [
      "NCT00730210 doesn't have an organization.\n",
      "NCT02220283 doesn't have an organization.\n"
     ]
    }
   ],
   "source": [
    "# now that we have the base information, let's add other attributes\n",
    "\n",
    "# we get the organization of the principal investigator, so we don't need to pass his/her name\n",
    "ct_organization_names = ct_info.get_all_organization_names(df['CT'].tolist(), df['ct_last_name'].tolist(),\n",
    "                                                           df['ct_first_name_initial'].tolist(),\n",
    "                                                           sample=ct_org_sample)\n",
    "\n",
    "# Now we insert it in the dataframe\n",
    "if('ct_organization' not in df):\n",
    "    df.insert(6, 'ct_organization', ct_organization_names)\n",
    "    \n",
    "\n",
    "# I get the e-mails\n",
    "ct_mails = ct_info.get_all_mails(df['CT'].tolist(), df['ct_last_name'].tolist(), df['ct_first_name_initial'].tolist())\n",
    "\n",
    "if('ct_mail' not in df):\n",
    "    df.insert(7, 'ct_mail', ct_mails)\n",
    "    \n",
    "# I get the year\n",
    "ct_years = ct_info.get_all_years(df['CT'].tolist())\n",
    "    \n",
    "if('ct_year' not in df):\n",
    "    df.insert(8, 'ct_year', ct_years)\n",
    "    \n",
    "# I get the initials of the name\n",
    "\n",
    "ct_initials = ct_info.get_all_initials(df['ct_first_name'].tolist())\n",
    "\n",
    "if('ct_initials' not in df):\n",
    "    df.insert(9, 'ct_initials', ct_initials)"
   ]
  },
  {
   "cell_type": "code",
   "execution_count": null,
   "metadata": {},
   "outputs": [],
   "source": [
    "print(sum(x is not None for x in df['ct_mail']))"
   ]
  },
  {
   "cell_type": "code",
   "execution_count": null,
   "metadata": {},
   "outputs": [],
   "source": [
    "# Let's add the same attributes for the articles\n",
    "\n",
    "ar_organization_names = article_info.get_all_organizations(df['PubMed'].tolist(), df['ar_last_name'].tolist(),\n",
    "                                                           df['ar_first_name_initial'].tolist(),\n",
    "                                                           sample = ar_org_sample)\n",
    "df['ar_organization'] = ar_organization_names\n",
    "\n",
    "ar_mails = article_info.get_all_mails(df['PubMed'].tolist(), df['ar_last_name'].tolist(),\n",
    "                                      df['ar_first_name_initial'].tolist())\n",
    "df['ar_mail'] = ar_mails\n",
    "\n",
    "ar_years = article_info.get_all_years(df['PubMed'].tolist())\n",
    "\n",
    "df['ar_year'] = ar_years\n",
    "\n",
    "ar_initials = article_info.get_all_initials(df['ar_first_name'])\n",
    "\n",
    "df['ar_initials'] = ar_initials\n",
    "\n",
    "print(sum(x is not None for x in ar_organization_names))\n",
    "print(sum(x is not None for x in ar_mails))"
   ]
  },
  {
   "cell_type": "code",
   "execution_count": null,
   "metadata": {
    "scrolled": false
   },
   "outputs": [],
   "source": [
    "# I now calculate useful attributes for the classifiers\n",
    "first_name_equalities = calculate_attributes.get_string_arrays_similarity(df['ct_first_name'].tolist(),\n",
    "                                                                          df['ar_first_name'].tolist())\n",
    "organization_similarities = calculate_attributes.get_organization_similarity(df['ct_organization'].tolist(),\n",
    "                                                                             df['ar_organization'].tolist(),\n",
    "                                                                             ct_org_sample, ar_org_sample)\n",
    "email_equalities = calculate_attributes.get_arrays_equality(df['ct_mail'].tolist(), df['ar_mail'].tolist())\n",
    "year_differences = calculate_attributes.get_year_differences(df['ct_year'].tolist(), df['ar_year'].tolist())\n",
    "last_name_lengths = calculate_attributes.get_last_name_lengths(df['ct_last_name'].tolist())\n",
    "initials_equality = calculate_attributes.get_arrays_equality(df['ct_initials'].tolist(), df['ar_initials'].tolist())\n",
    "\n",
    "# Let's add the attributes to the data frame\n",
    "df['first_name_equality'], df['organization_similarity'] = [first_name_equalities, organization_similarities]\n",
    "df['email_equality'], df['year_difference'] = [email_equalities, year_differences]\n",
    "df['last_name_length'], df['initials_equality'] = [last_name_lengths, initials_equality]"
   ]
  },
  {
   "cell_type": "code",
   "execution_count": null,
   "metadata": {},
   "outputs": [],
   "source": [
    "# Now we delete the ones we don't need in the classifier\n",
    "df_to_save = df.drop(['CT', 'PubMed', 'ct_last_name', 'ct_first_name_initial', 'ct_first_name',\n",
    "              'ct_organization', 'ct_mail', 'ct_year', 'ct_initials', 'ar_last_name', 'ar_first_name_initial',\n",
    "                'ar_first_name','ar_organization', 'ar_mail', 'ar_initials', 'ar_year'], axis = 1)"
   ]
  },
  {
   "cell_type": "code",
   "execution_count": null,
   "metadata": {},
   "outputs": [],
   "source": [
    "# Writing the dataframe to file\n",
    "import csv\n",
    "import codecs\n",
    "csv = df_to_save.to_csv(index=False)\n",
    "\n",
    "file = codecs.open(\"dataframe.csv\", \"w\", \"utf-8\")\n",
    "file.write(csv)\n",
    "file.close()"
   ]
  },
  {
   "cell_type": "code",
   "execution_count": null,
   "metadata": {},
   "outputs": [],
   "source": [
    "importlib.reload(article_info)\n",
    "importlib.reload(ct_info)\n",
    "importlib.reload(calculate_attributes)\n",
    "importlib.reload(clinical_trial)"
   ]
  },
  {
   "cell_type": "code",
   "execution_count": null,
   "metadata": {},
   "outputs": [],
   "source": [
    "df.iloc[40]"
   ]
  },
  {
   "cell_type": "code",
   "execution_count": null,
   "metadata": {
    "scrolled": true
   },
   "outputs": [],
   "source": [
    "df"
   ]
  },
  {
   "cell_type": "code",
   "execution_count": null,
   "metadata": {},
   "outputs": [],
   "source": [
    "lista = df['CT'].tolist()\n",
    "a = df['ct_last_name'].tolist()\n",
    "b = df['ct_first_name_initial'].tolist()\n",
    "mails = df['ct_mail'].tolist()\n",
    "\n",
    "count = 0\n",
    "\n",
    "for i in range(len(lista)):\n",
    "    tags = lista[i].get_all_name_tags(a[i],b[i])\n",
    "    \n",
    "    for tag in tags:\n",
    "        if tag.email is not None or mails[i]:\n",
    "            #print(tag.email, mails[i])\n",
    "            count += 1\n",
    "        \n",
    "print(count)"
   ]
  },
  {
   "cell_type": "code",
   "execution_count": null,
   "metadata": {},
   "outputs": [],
   "source": [
    "lista = df['CT'].tolist()\n",
    "\n",
    "for i in range(len(lista)):\n",
    "    loc = lista[i].clinical_trial.findAll('location')\n",
    "    if len(loc) > 1:\n",
    "        print(loc[0].country.text, loc[1].country.text, '\\n')"
   ]
  },
  {
   "cell_type": "code",
   "execution_count": null,
   "metadata": {},
   "outputs": [],
   "source": [
    "lista = df['CT'].tolist()\n",
    "\n",
    "for i in range(len(lista)):\n",
    "    loc = lista[i].clinical_trial.findAll('overall_official')\n",
    "    if len(loc) >= 1:\n",
    "        print(loc[0], '\\n')"
   ]
  },
  {
   "cell_type": "code",
   "execution_count": null,
   "metadata": {},
   "outputs": [],
   "source": [
    "\n",
    "lista = df['organization_similarity'].tolist()\n",
    "for i in range(len(lista)):\n",
    "    print(lista[i], df['ct_organization'][i], '\\n',df['ar_organization'][i], '\\n\\n')"
   ]
  },
  {
   "cell_type": "code",
   "execution_count": null,
   "metadata": {},
   "outputs": [],
   "source": []
  }
 ],
 "metadata": {
  "kernelspec": {
   "display_name": "Python 3",
   "language": "python",
   "name": "python3"
  },
  "language_info": {
   "codemirror_mode": {
    "name": "ipython",
    "version": 3
   },
   "file_extension": ".py",
   "mimetype": "text/x-python",
   "name": "python",
   "nbconvert_exporter": "python",
   "pygments_lexer": "ipython3",
   "version": "3.6.6"
  }
 },
 "nbformat": 4,
 "nbformat_minor": 2
}
