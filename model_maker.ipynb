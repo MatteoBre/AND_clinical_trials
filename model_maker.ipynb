{
 "cells": [
  {
   "cell_type": "code",
   "execution_count": 1,
   "metadata": {},
   "outputs": [
    {
     "name": "stderr",
     "output_type": "stream",
     "text": [
      "C:\\Users\\Brescia\\Anaconda3\\lib\\site-packages\\sklearn\\ensemble\\weight_boosting.py:29: DeprecationWarning: numpy.core.umath_tests is an internal NumPy module and should not be imported. It will be removed in a future NumPy release.\n",
      "  from numpy.core.umath_tests import inner1d\n"
     ]
    }
   ],
   "source": [
    "import pandas as pd\n",
    "from src.classifiers.random_forest import RandomForest\n",
    "from src.classifiers.svm_classifier import SVMClassifier\n",
    "from src.classifiers.mlp_classifier import MLPClassifier\n",
    "from sklearn.model_selection import train_test_split\n",
    "from sklearn.metrics import confusion_matrix, classification_report\n",
    "\n",
    "# I get the dataframe\n",
    "df = pd.read_csv('src\\\\dataframe.csv', encoding = 'utf-8')\n",
    "\n",
    "# I create x and y\n",
    "x = df.drop('common_answer', axis=1)\n",
    "#x = x.drop('first_name_equality', axis=1)\n",
    "#x = x.drop('organization_similarity', axis=1)\n",
    "#x = x.drop('email_equality', axis=1)\n",
    "#x = x.drop('year_difference', axis=1)\n",
    "#x = x.drop('last_name_length', axis=1)\n",
    "#x = x.drop('initials_equality', axis=1)\n",
    "#x = x.drop('organization_type_equality', axis=1)\n",
    "y = df['common_answer']\n",
    "\n",
    "# I get the train set and the test set\n",
    "x_train, x_test, y_train, y_test = train_test_split(x, y, test_size = 0.33, random_state = 0) #635 #288\n",
    "\n",
    "# I use the classifier\n",
    "classifier = RandomForest(0) #1560\n",
    "#classifier = SVMClassifier()\n",
    "#classifier = MLPClassifier(0,(11,11,11))\n",
    "\n",
    "# I create the model\n",
    "classifier.create_model(x_train, y_train)"
   ]
  },
  {
   "cell_type": "code",
   "execution_count": 2,
   "metadata": {},
   "outputs": [
    {
     "name": "stdout",
     "output_type": "stream",
     "text": [
      "             precision    recall  f1-score   support\n",
      "\n",
      "          0       0.76      0.74      0.75        92\n",
      "          1       0.92      0.93      0.92       284\n",
      "\n",
      "avg / total       0.88      0.88      0.88       376\n",
      "\n",
      "[[ 68  24]\n",
      " [ 21 263]]\n"
     ]
    }
   ],
   "source": [
    "# Here we test the model\n",
    "\n",
    "# I get the predictions on the test set\n",
    "pred = classifier.predict(x_test)\n",
    "\n",
    "#Let's see how well has done\n",
    "print(classification_report(y_test, pred))\n",
    "print(confusion_matrix(y_test, pred))"
   ]
  },
  {
   "cell_type": "code",
   "execution_count": null,
   "metadata": {},
   "outputs": [],
   "source": [
    "# I save the model to file (don't write the file extension)\n",
    "classifier.save_model_to_file('models/classifier')"
   ]
  },
  {
   "cell_type": "code",
   "execution_count": null,
   "metadata": {},
   "outputs": [],
   "source": [
    "# I add the prediction to all the rows, then I add the y_test and\n",
    "# drop the NaN (we will find Nan only in y_test and only in the train set rows)\n",
    "\n",
    "# In this way I can compare the results and try to undestand what's going on\n",
    "df['pred'] = classifier.predict(x)\n",
    "df['y_test'] = y_test\n",
    "df.dropna()"
   ]
  },
  {
   "cell_type": "code",
   "execution_count": null,
   "metadata": {},
   "outputs": [],
   "source": [
    "\n",
    "[item for item in df['email_equality'] if item>=1]"
   ]
  },
  {
   "cell_type": "code",
   "execution_count": null,
   "metadata": {},
   "outputs": [],
   "source": [
    "from sklearn.metrics import precision_recall_fscore_support\n",
    "max_coso = 0\n",
    "max_index = 0\n",
    "\n",
    "\n",
    "for i in range(1000):\n",
    "    x_train, x_test, y_train, y_test = train_test_split(x, y, test_size = 0.33, random_state = i)\n",
    "    classifier = RandomForest(0)\n",
    "    classifier.create_model(x_train, y_train)\n",
    "    pred = classifier.predict(x_test)\n",
    "    precision = precision_recall_fscore_support(y_test, pred, average='weighted')[0]\n",
    "    if precision > max_coso:\n",
    "        max_coso = precision\n",
    "        max_index = i\n",
    "print(max_index)"
   ]
  },
  {
   "cell_type": "code",
   "execution_count": 3,
   "metadata": {},
   "outputs": [],
   "source": [
    "from sklearn.metrics import precision_recall_fscore_support\n",
    "avg_precision = 0\n",
    "for k in range(1000):\n",
    "    x_train, x_test, y_train, y_test = train_test_split(x, y, test_size = 0.33, random_state = k)\n",
    "    classifier = RandomForest(0)\n",
    "    classifier.create_model(x_train, y_train)\n",
    "    pred = classifier.predict(x_test)\n",
    "    avg_precision += precision_recall_fscore_support(y_test, pred, average='weighted')[0]\n",
    "avg_precision /= 1000"
   ]
  },
  {
   "cell_type": "code",
   "execution_count": 4,
   "metadata": {},
   "outputs": [
    {
     "data": {
      "text/plain": [
       "0.8887551088140458"
      ]
     },
     "execution_count": 4,
     "metadata": {},
     "output_type": "execute_result"
    }
   ],
   "source": [
    "avg_precision"
   ]
  },
  {
   "cell_type": "code",
   "execution_count": null,
   "metadata": {},
   "outputs": [],
   "source": []
  }
 ],
 "metadata": {
  "kernelspec": {
   "display_name": "Python 3",
   "language": "python",
   "name": "python3"
  },
  "language_info": {
   "codemirror_mode": {
    "name": "ipython",
    "version": 3
   },
   "file_extension": ".py",
   "mimetype": "text/x-python",
   "name": "python",
   "nbconvert_exporter": "python",
   "pygments_lexer": "ipython3",
   "version": "3.6.6"
  }
 },
 "nbformat": 4,
 "nbformat_minor": 2
}
